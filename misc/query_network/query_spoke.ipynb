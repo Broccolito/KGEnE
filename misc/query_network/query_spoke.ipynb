{
 "cells": [
  {
   "cell_type": "code",
   "execution_count": null,
   "id": "04c9e21e",
   "metadata": {},
   "outputs": [],
   "source": [
    "import pandas as pd\n",
    "from neo4j import GraphDatabase"
   ]
  },
  {
   "cell_type": "code",
   "execution_count": 4,
   "id": "6317743d",
   "metadata": {},
   "outputs": [],
   "source": [
    "uri = \"bolt://spokedev.cgl.ucsf.edu:7687\"\n",
    "user = \"neo4j\"\n",
    "password = \"SPOKEdev\"\n",
    "\n",
    "driver = GraphDatabase.driver(uri, auth=(user, password))"
   ]
  },
  {
   "cell_type": "code",
   "execution_count": 5,
   "id": "3126058f",
   "metadata": {},
   "outputs": [],
   "source": [
    "node_query = \"\"\"\n",
    "MATCH (n)-[r]-(m)\n",
    "RETURN DISTINCT n\n",
    "SKIP $skip LIMIT $limit\n",
    "\"\"\""
   ]
  },
  {
   "cell_type": "code",
   "execution_count": 6,
   "id": "b36c4727",
   "metadata": {},
   "outputs": [],
   "source": [
    "edge_query = \"\"\"\n",
    "MATCH (n)-[r]-(m)\n",
    "RETURN DISTINCT r\n",
    "SKIP $skip LIMIT $limit\n",
    "\"\"\""
   ]
  },
  {
   "cell_type": "code",
   "execution_count": 7,
   "id": "af67b4da",
   "metadata": {},
   "outputs": [],
   "source": [
    "batch_size = 100000\n",
    "node_file = \"nodes.tsv\"\n",
    "edge_file = \"edges.tsv\""
   ]
  },
  {
   "cell_type": "code",
   "execution_count": 8,
   "id": "bda69860",
   "metadata": {},
   "outputs": [],
   "source": [
    "# Function to fetch nodes in batches\n",
    "def fetch_nodes(tx, skip, limit):\n",
    "    result = tx.run(node_query, skip=skip, limit=limit)\n",
    "    nodes = []\n",
    "    for record in result:\n",
    "        node = record[\"n\"]\n",
    "        node_dict = dict(node)\n",
    "        nodes.append({\n",
    "            \"id\": node.element_id,\n",
    "            \"labels\": list(node.labels),\n",
    "            \"identifier\": node_dict.get(\"identifier\"),\n",
    "            \"properties\": node_dict\n",
    "        })\n",
    "    return nodes"
   ]
  },
  {
   "cell_type": "code",
   "execution_count": 9,
   "id": "d32ff00c",
   "metadata": {},
   "outputs": [],
   "source": [
    "# Function to fetch edges in batches\n",
    "def fetch_edges(tx, skip, limit):\n",
    "    result = tx.run(edge_query, skip=skip, limit=limit)\n",
    "    edges = []\n",
    "    for record in result:\n",
    "        edge = record[\"r\"]\n",
    "        edge_dict = dict(edge)\n",
    "        edges.append({\n",
    "            \"id\": edge.element_id,\n",
    "            \"start_node\": edge.start_node.element_id,\n",
    "            \"end_node\": edge.end_node.element_id,\n",
    "            \"edge_type\": edge.type,\n",
    "            \"properties\": edge_dict\n",
    "        })\n",
    "    return edges"
   ]
  },
  {
   "cell_type": "code",
   "execution_count": 10,
   "id": "322b5b85",
   "metadata": {},
   "outputs": [
    {
     "ename": "NameError",
     "evalue": "name 'pd' is not defined",
     "output_type": "error",
     "traceback": [
      "\u001b[0;31m---------------------------------------------------------------------------\u001b[0m",
      "\u001b[0;31mNameError\u001b[0m                                 Traceback (most recent call last)",
      "Cell \u001b[0;32mIn[10], line 2\u001b[0m\n\u001b[1;32m      1\u001b[0m \u001b[38;5;66;03m# Initialize empty TSV files with headers\u001b[39;00m\n\u001b[0;32m----> 2\u001b[0m \u001b[43mpd\u001b[49m\u001b[38;5;241m.\u001b[39mDataFrame(columns\u001b[38;5;241m=\u001b[39m[\u001b[38;5;124m\"\u001b[39m\u001b[38;5;124mid\u001b[39m\u001b[38;5;124m\"\u001b[39m, \u001b[38;5;124m\"\u001b[39m\u001b[38;5;124mlabels\u001b[39m\u001b[38;5;124m\"\u001b[39m, \u001b[38;5;124m\"\u001b[39m\u001b[38;5;124midentifier\u001b[39m\u001b[38;5;124m\"\u001b[39m, \u001b[38;5;124m\"\u001b[39m\u001b[38;5;124mproperties\u001b[39m\u001b[38;5;124m\"\u001b[39m])\u001b[38;5;241m.\u001b[39mto_csv(\n\u001b[1;32m      3\u001b[0m     node_file, sep\u001b[38;5;241m=\u001b[39m\u001b[38;5;124m\"\u001b[39m\u001b[38;5;130;01m\\t\u001b[39;00m\u001b[38;5;124m\"\u001b[39m, index\u001b[38;5;241m=\u001b[39m\u001b[38;5;28;01mFalse\u001b[39;00m\n\u001b[1;32m      4\u001b[0m )\n\u001b[1;32m      5\u001b[0m pd\u001b[38;5;241m.\u001b[39mDataFrame(columns\u001b[38;5;241m=\u001b[39m[\u001b[38;5;124m\"\u001b[39m\u001b[38;5;124mid\u001b[39m\u001b[38;5;124m\"\u001b[39m, \u001b[38;5;124m\"\u001b[39m\u001b[38;5;124mstart_node\u001b[39m\u001b[38;5;124m\"\u001b[39m, \u001b[38;5;124m\"\u001b[39m\u001b[38;5;124mend_node\u001b[39m\u001b[38;5;124m\"\u001b[39m, \u001b[38;5;124m\"\u001b[39m\u001b[38;5;124medge_type\u001b[39m\u001b[38;5;124m\"\u001b[39m, \u001b[38;5;124m\"\u001b[39m\u001b[38;5;124mproperties\u001b[39m\u001b[38;5;124m\"\u001b[39m])\u001b[38;5;241m.\u001b[39mto_csv(\n\u001b[1;32m      6\u001b[0m     edge_file, sep\u001b[38;5;241m=\u001b[39m\u001b[38;5;124m\"\u001b[39m\u001b[38;5;130;01m\\t\u001b[39;00m\u001b[38;5;124m\"\u001b[39m, index\u001b[38;5;241m=\u001b[39m\u001b[38;5;28;01mFalse\u001b[39;00m\n\u001b[1;32m      7\u001b[0m )\n",
      "\u001b[0;31mNameError\u001b[0m: name 'pd' is not defined"
     ]
    }
   ],
   "source": [
    "# Initialize empty TSV files with headers\n",
    "pd.DataFrame(columns=[\"id\", \"labels\", \"identifier\", \"properties\"]).to_csv(\n",
    "    node_file, sep=\"\\t\", index=False\n",
    ")\n",
    "pd.DataFrame(columns=[\"id\", \"start_node\", \"end_node\", \"edge_type\", \"properties\"]).to_csv(\n",
    "    edge_file, sep=\"\\t\", index=False\n",
    ")"
   ]
  },
  {
   "cell_type": "code",
   "execution_count": null,
   "id": "d9f20c3a",
   "metadata": {},
   "outputs": [],
   "source": [
    "# Fetch nodes in batches and save to TSV\n",
    "with driver.session() as session:\n",
    "    # Fetch and save nodes\n",
    "    skip = 0\n",
    "    while True:\n",
    "        print(f\"Fetching nodes batch starting at {skip}\")\n",
    "        nodes = session.execute_read(fetch_nodes, skip=skip, limit=batch_size)\n",
    "        if not nodes:\n",
    "            break\n",
    "        # Convert to DataFrame\n",
    "        node_df = pd.DataFrame(nodes)\n",
    "        # Append to TSV\n",
    "        node_df.to_csv(node_file, sep=\"\\t\", index=False, header=False, mode=\"a\")\n",
    "        skip += batch_size\n",
    "        \n",
    "driver.close()\n",
    "print(f\"Nodes saved to {node_file}.\")\n",
    "\n",
    "# Fetch edges in batches and save to TSV\n",
    "with driver.session() as session:\n",
    "    # Fetch and save edges\n",
    "    skip = 0\n",
    "    while True:\n",
    "        print(f\"Fetching edges batch starting at {skip}\")\n",
    "        edges = session.execute_read(fetch_edges, skip=skip, limit=batch_size)\n",
    "        if not edges:\n",
    "            break\n",
    "        # Convert to DataFrame\n",
    "        edge_df = pd.DataFrame(edges)\n",
    "        # Append to TSV\n",
    "        edge_df.to_csv(edge_file, sep=\"\\t\", index=False, header=False, mode=\"a\")\n",
    "        skip += batch_size\n",
    "        \n",
    "driver.close()\n",
    "print(f\"Edges saved to {edge_file}.\")\n"
   ]
  }
 ],
 "metadata": {
  "kernelspec": {
   "display_name": "neo4j",
   "language": "python",
   "name": "python3"
  },
  "language_info": {
   "codemirror_mode": {
    "name": "ipython",
    "version": 3
   },
   "file_extension": ".py",
   "mimetype": "text/x-python",
   "name": "python",
   "nbconvert_exporter": "python",
   "pygments_lexer": "ipython3",
   "version": "3.10.18"
  }
 },
 "nbformat": 4,
 "nbformat_minor": 5
}
